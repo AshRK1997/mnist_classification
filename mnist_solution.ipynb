{
  "nbformat": 4,
  "nbformat_minor": 0,
  "metadata": {
    "colab": {
      "name": "mnist_solution",
      "provenance": [],
      "authorship_tag": "ABX9TyOETq7MTnghAKPo+e2soJQq",
      "include_colab_link": true
    },
    "kernelspec": {
      "name": "python3",
      "display_name": "Python 3"
    }
  },
  "cells": [
    {
      "cell_type": "markdown",
      "metadata": {
        "id": "view-in-github",
        "colab_type": "text"
      },
      "source": [
        "<a href=\"https://colab.research.google.com/github/AshRK1997/mnist_classification/blob/master/mnist_solution.ipynb\" target=\"_parent\"><img src=\"https://colab.research.google.com/assets/colab-badge.svg\" alt=\"Open In Colab\"/></a>"
      ]
    },
    {
      "cell_type": "code",
      "metadata": {
        "id": "Va_SM24HO6Bd",
        "colab_type": "code",
        "colab": {
          "base_uri": "https://localhost:8080/",
          "height": 69
        },
        "outputId": "24103495-e591-4d33-f437-1a96023983be"
      },
      "source": [
        "from keras.datasets import mnist\n",
        "\n",
        "(x_train,y_train),(x_test,y_test) = mnist.load_data()"
      ],
      "execution_count": 1,
      "outputs": [
        {
          "output_type": "stream",
          "text": [
            "Using TensorFlow backend.\n"
          ],
          "name": "stderr"
        },
        {
          "output_type": "stream",
          "text": [
            "Downloading data from https://s3.amazonaws.com/img-datasets/mnist.npz\n",
            "11493376/11490434 [==============================] - 1s 0us/step\n"
          ],
          "name": "stdout"
        }
      ]
    },
    {
      "cell_type": "code",
      "metadata": {
        "id": "0EKQjUoaarHn",
        "colab_type": "code",
        "colab": {
          "base_uri": "https://localhost:8080/",
          "height": 34
        },
        "outputId": "af4930e8-a89e-48a8-ee03-74d4aa86000a"
      },
      "source": [
        "import matplotlib.pyplot as plt\n",
        "\n",
        "x_train.shape"
      ],
      "execution_count": 3,
      "outputs": [
        {
          "output_type": "execute_result",
          "data": {
            "text/plain": [
              "(60000, 28, 28)"
            ]
          },
          "metadata": {
            "tags": []
          },
          "execution_count": 3
        }
      ]
    },
    {
      "cell_type": "code",
      "metadata": {
        "id": "GxiiFaIibCjq",
        "colab_type": "code",
        "colab": {}
      },
      "source": [
        "from keras.utils.np_utils import to_categorical\n",
        "\n",
        "y_cat_train = to_categorical(y_train,10) \n",
        "y_cat_test = to_categorical(y_test,10)\n",
        "\n",
        "x_train = x_train/x_train.max()\n",
        "x_test = x_test/x_test.max()"
      ],
      "execution_count": 4,
      "outputs": []
    },
    {
      "cell_type": "code",
      "metadata": {
        "id": "ZiBBw6MOcuRC",
        "colab_type": "code",
        "colab": {
          "base_uri": "https://localhost:8080/",
          "height": 34
        },
        "outputId": "97456565-bfc1-44dd-8965-86fb8058b762"
      },
      "source": [
        "x_train.shape"
      ],
      "execution_count": 10,
      "outputs": [
        {
          "output_type": "execute_result",
          "data": {
            "text/plain": [
              "(60000, 28, 28)"
            ]
          },
          "metadata": {
            "tags": []
          },
          "execution_count": 10
        }
      ]
    },
    {
      "cell_type": "code",
      "metadata": {
        "id": "nUjbh584c4tP",
        "colab_type": "code",
        "colab": {}
      },
      "source": [
        "x_train = x_train.reshape(60000,28,28,1)"
      ],
      "execution_count": 12,
      "outputs": []
    },
    {
      "cell_type": "code",
      "metadata": {
        "id": "uubzuaZCde-8",
        "colab_type": "code",
        "colab": {
          "base_uri": "https://localhost:8080/",
          "height": 34
        },
        "outputId": "83a1b4a1-7662-469f-f55f-b087f1c6b131"
      },
      "source": [
        "x_test.shape"
      ],
      "execution_count": 13,
      "outputs": [
        {
          "output_type": "execute_result",
          "data": {
            "text/plain": [
              "(10000, 28, 28)"
            ]
          },
          "metadata": {
            "tags": []
          },
          "execution_count": 13
        }
      ]
    },
    {
      "cell_type": "code",
      "metadata": {
        "id": "frcoCjK8djkH",
        "colab_type": "code",
        "colab": {}
      },
      "source": [
        "x_test = x_test.reshape(10000,28,28,1)"
      ],
      "execution_count": 15,
      "outputs": []
    },
    {
      "cell_type": "code",
      "metadata": {
        "id": "rH-FTNfKdw88",
        "colab_type": "code",
        "colab": {}
      },
      "source": [
        "from keras.models import Sequential\n",
        "from keras.layers import Conv2D,Dense,MaxPool2D,Flatten\n",
        "\n",
        "model = Sequential()\n",
        "model.add(Conv2D(filters=32,kernel_size=(4,4),input_shape=(28,28,1),activation='relu'))\n",
        "model.add(MaxPool2D(pool_size=(2,2)))\n",
        "model.add(Flatten())\n",
        "model.add(Dense(128,activation='relu'))\n",
        "model.add(Dense(10,activation='softmax'))\n",
        "\n",
        "model.compile(loss='categorical_crossentropy',metrics=['accuracy'],optimizer='rmsprop')"
      ],
      "execution_count": 19,
      "outputs": []
    },
    {
      "cell_type": "code",
      "metadata": {
        "id": "yDJZAwkYg4nd",
        "colab_type": "code",
        "colab": {
          "base_uri": "https://localhost:8080/",
          "height": 173
        },
        "outputId": "a48a6c7a-1745-48e7-a305-4a630ddc35ee"
      },
      "source": [
        "model.fit(x_train,y_cat_train,epochs=4)"
      ],
      "execution_count": 20,
      "outputs": [
        {
          "output_type": "stream",
          "text": [
            "Epoch 1/4\n",
            "60000/60000 [==============================] - 35s 584us/step - loss: 0.1415 - accuracy: 0.9572\n",
            "Epoch 2/4\n",
            "60000/60000 [==============================] - 34s 573us/step - loss: 0.0492 - accuracy: 0.9855\n",
            "Epoch 3/4\n",
            "60000/60000 [==============================] - 35s 577us/step - loss: 0.0350 - accuracy: 0.9897\n",
            "Epoch 4/4\n",
            "60000/60000 [==============================] - 39s 649us/step - loss: 0.0270 - accuracy: 0.9920\n"
          ],
          "name": "stdout"
        },
        {
          "output_type": "execute_result",
          "data": {
            "text/plain": [
              "<keras.callbacks.callbacks.History at 0x7fd0bdb59b00>"
            ]
          },
          "metadata": {
            "tags": []
          },
          "execution_count": 20
        }
      ]
    },
    {
      "cell_type": "code",
      "metadata": {
        "id": "h89CrgkohZXp",
        "colab_type": "code",
        "colab": {
          "base_uri": "https://localhost:8080/",
          "height": 347
        },
        "outputId": "82ed611d-4ebc-47e7-d788-ab2b72de1e27"
      },
      "source": [
        "from sklearn.metrics import classification_report\n",
        "\n",
        "\n",
        "predictions = model.predict_classes(x_test)\n",
        "print(model.evaluate(x_test,y_cat_test))\n",
        "\n",
        "print(classification_report(y_test,predictions))"
      ],
      "execution_count": 21,
      "outputs": [
        {
          "output_type": "stream",
          "text": [
            "10000/10000 [==============================] - 2s 162us/step\n",
            "[0.043867763967395515, 0.9876999855041504]\n",
            "              precision    recall  f1-score   support\n",
            "\n",
            "           0       0.98      1.00      0.99       980\n",
            "           1       0.99      1.00      1.00      1135\n",
            "           2       0.98      0.99      0.99      1032\n",
            "           3       0.98      1.00      0.99      1010\n",
            "           4       1.00      0.98      0.99       982\n",
            "           5       0.98      0.99      0.99       892\n",
            "           6       0.99      0.98      0.99       958\n",
            "           7       0.99      0.99      0.99      1028\n",
            "           8       0.99      0.97      0.98       974\n",
            "           9       0.98      0.98      0.98      1009\n",
            "\n",
            "    accuracy                           0.99     10000\n",
            "   macro avg       0.99      0.99      0.99     10000\n",
            "weighted avg       0.99      0.99      0.99     10000\n",
            "\n"
          ],
          "name": "stdout"
        }
      ]
    }
  ]
}